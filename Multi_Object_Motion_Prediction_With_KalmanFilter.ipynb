{
  "nbformat": 4,
  "nbformat_minor": 0,
  "metadata": {
    "colab": {
      "name": "Multi-Object-Motion-Prediction-With-KalmanFilter.ipynb",
      "provenance": [],
      "collapsed_sections": [],
      "authorship_tag": "ABX9TyPJM+Y+ZMjZSKfFRRpDYq0c",
      "include_colab_link": true
    },
    "kernelspec": {
      "name": "python3",
      "display_name": "Python 3"
    }
  },
  "cells": [
    {
      "cell_type": "markdown",
      "metadata": {
        "id": "view-in-github",
        "colab_type": "text"
      },
      "source": [
        "<a href=\"https://colab.research.google.com/github/sayem-eee-kuet/ECE584/blob/main/Multi_Object_Motion_Prediction_With_KalmanFilter.ipynb\" target=\"_parent\"><img src=\"https://colab.research.google.com/assets/colab-badge.svg\" alt=\"Open In Colab\"/></a>"
      ]
    },
    {
      "cell_type": "code",
      "metadata": {
        "id": "5TlQA3SYP7wV",
        "colab": {
          "base_uri": "https://localhost:8080/"
        },
        "outputId": "6c08b2d5-7c46-41bb-9813-05efc011f8ba"
      },
      "source": [
        "from google.colab import drive\n",
        "drive.mount('/content/gdrive')"
      ],
      "execution_count": 11,
      "outputs": [
        {
          "output_type": "stream",
          "text": [
            "Drive already mounted at /content/gdrive; to attempt to forcibly remount, call drive.mount(\"/content/gdrive\", force_remount=True).\n"
          ],
          "name": "stdout"
        }
      ]
    },
    {
      "cell_type": "code",
      "metadata": {
        "id": "nBQBbCmnQKhs"
      },
      "source": [
        "\n",
        "#----------------------------\n",
        "#--------- Imports-----------\n",
        "#----------------------------\n",
        "import cv2 as cv\n",
        "import numpy as np\n",
        "import sys\n",
        "from google.colab.patches import cv2_imshow\n",
        "import matplotlib.pyplot as plt\n",
        "import matplotlib.animation as animation\n",
        "from IPython.display import HTML\n",
        "\n",
        "MAX_OBJECTS_TO_TRACK = 10"
      ],
      "execution_count": 12,
      "outputs": []
    },
    {
      "cell_type": "code",
      "metadata": {
        "id": "XVmSJ3nLiG9j",
        "outputId": "d9d5b8a8-65f4-4ebe-8058-99a58ef3ad7c",
        "colab": {
          "base_uri": "https://localhost:8080/"
        }
      },
      "source": [
        "# Instantiate OCV kalman filter\n",
        "class KalmanFilter:\n",
        "\n",
        "    kf = cv.KalmanFilter(4, 2)\n",
        "    kf.measurementMatrix = np.array([[1, 0, 0, 0], \n",
        "                                     [0, 1, 0, 0]], np.float32)\n",
        "\n",
        "    kf.transitionMatrix = np.array([[1, 0, 1, 0], \n",
        "                                    [0, 1, 0, 1], \n",
        "                                    [0, 0, 1, 0], \n",
        "                                    [0, 0, 0, 1]], np.float32)\n",
        "\n",
        "    def Estimate(self, coordX, coordY):\n",
        "        ''' This function estimates the position of the object'''\n",
        "        measured = np.array([[np.float32(coordX)], [np.float32(coordY)]])\n",
        "        self.kf.correct(measured)\n",
        "        predicted = self.kf.predict()\n",
        "        return predicted\n",
        "\n",
        "\n",
        "#Performs required image processing to get ball coordinated in the video\n",
        "class ProcessImage:\n",
        "\n",
        "    def DetectObject(self):\n",
        "\n",
        "        vid = cv.VideoCapture('/content/gdrive/MyDrive/ECE584/Data/two_object.mp4')\n",
        "\n",
        "        if(vid.isOpened() == False):\n",
        "            print('Cannot open input video')\n",
        "            return\n",
        "\n",
        "        width = int(vid.get(3))\n",
        "        height = int(vid.get(4))\n",
        "\n",
        "        # Create Kalman Filter Object\n",
        "        kfObjs = []\n",
        "        predictedCoords = []\n",
        "        for i in range(MAX_OBJECTS_TO_TRACK):\n",
        "            kfObjs.append(KalmanFilter())\n",
        "            predictedCoords.append(np.zeros((2, 1), np.float32))\n",
        "\n",
        "        fr = []\n",
        "\n",
        "        while(vid.isOpened()):\n",
        "            rc, frame = vid.read()\n",
        "\n",
        "            if(rc == True):\n",
        "                coords = self.DetectBall(frame)\n",
        "\n",
        "                for i in range(len(coords)):\n",
        "                    if(i > MAX_OBJECTS_TO_TRACK):\n",
        "                        break\n",
        "\n",
        "                    #print (' circle ',i, ' ', coords[i][0], ' ', coords[i][1])\n",
        "                    predictedCoords[i] = kfObjs[i].Estimate(coords[i][0], coords[i][1])\n",
        "                    frame = self.DrawPredictions(frame, coords[i][0], coords[i][1], predictedCoords[i])\n",
        "\n",
        "                # cv.imshow('Input', frame)\n",
        "\n",
        "                fr.append(frame)\n",
        "\n",
        "                if (cv.waitKey(300) & 0xFF == ord('q')):\n",
        "                    break\n",
        "\n",
        "            else:\n",
        "                break\n",
        "\n",
        "        vid.release()\n",
        "        cv.destroyAllWindows()\n",
        "\n",
        "        return fr\n",
        "\n",
        "    # Segment the green ball in a given frame\n",
        "    def DetectBall(self, frame):\n",
        "\n",
        "        frameGrey = cv.cvtColor(frame, cv.COLOR_BGR2GRAY)\n",
        "\n",
        "        frameGrey = cv.blur(frameGrey, (3, 3))\n",
        "\n",
        "        circles = cv.HoughCircles(frameGrey, cv.HOUGH_GRADIENT, 1, 20, param1 = 50,\n",
        "               param2 = 30, minRadius = 1, maxRadius = 40)\n",
        "        coords = []\n",
        "\n",
        "        if circles is not None:\n",
        "            circles = np.round(circles[0, :]).astype(\"int\")\n",
        "            for (x, y, r) in circles:\n",
        "                coords.append((x,y))\n",
        "            return coords\n",
        "\n",
        "        return coords\n",
        "\n",
        "    def DrawPredictions(self, frame, ballX, ballY, predictedCoords):\n",
        "        # Draw Actual coords from segmentation\n",
        "        cv.circle(frame, (int(ballX), int(ballY)), 20, [0, 0, 255], 2, 8)\n",
        "        cv.line(frame, (int(ballX), int(ballY + 20)), (int(ballX + 50), int(ballY + 20)), [100, 100, 255], 2, 8)\n",
        "        cv.putText(frame, \"Actual\", (int(ballX + 50), int(ballY + 20)), cv.FONT_HERSHEY_SIMPLEX, 0.5, [50, 200, 250])\n",
        "\n",
        "        # Draw Kalman Filter Predicted output\n",
        "        cv.circle(frame, (predictedCoords[0], predictedCoords[1]), 20, [0, 255, 255], 2, 8)\n",
        "        cv.line(frame, (predictedCoords[0] + 16, predictedCoords[1] - 15),\n",
        "                (predictedCoords[0] + 50, predictedCoords[1] - 30), [100, 10, 255], 2, 8)\n",
        "        cv.putText(frame, \"Predicted\", (int(predictedCoords[0] + 50), int(predictedCoords[1] - 30)),\n",
        "                   cv.FONT_HERSHEY_SIMPLEX, 0.5, [50, 200, 250])\n",
        "\n",
        "        return frame\n",
        "\n",
        "\n",
        "\n",
        "# Main Function\n",
        "def main():\n",
        "\n",
        "    processImg = ProcessImage()\n",
        "    f = processImg.DetectObject()\n",
        "    # print(type(f))\n",
        "    f = np.asanyarray(f)\n",
        "    print(f.shape)\n",
        "    lenght, height, width, layer = f.shape\n",
        "    FPS = 10\n",
        "    time = 0.07\n",
        "    fourcc = cv.VideoWriter_fourcc(*'MP42')\n",
        "    video = cv.VideoWriter('/content/gdrive/MyDrive/ECE584/Output/multi.avi', fourcc, float(FPS), (width, height))\n",
        "\n",
        "    for i in range(len(f)):\n",
        "      video.write(f[i])\n",
        "    \n",
        "    video.release()\n",
        "    \n",
        "\n",
        "\n",
        "if __name__ == \"__main__\":\n",
        "    main()\n",
        "\n",
        "print('Program Completed! See output folder...')"
      ],
      "execution_count": 15,
      "outputs": [
        {
          "output_type": "stream",
          "text": [
            "(120, 360, 638, 3)\n",
            "Program Completed! See output folder...\n"
          ],
          "name": "stdout"
        }
      ]
    },
    {
      "cell_type": "code",
      "metadata": {
        "id": "v60GBR3XiKzs"
      },
      "source": [
        ""
      ],
      "execution_count": null,
      "outputs": []
    }
  ]
}