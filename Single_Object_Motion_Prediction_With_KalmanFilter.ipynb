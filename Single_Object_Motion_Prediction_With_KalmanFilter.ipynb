{
  "nbformat": 4,
  "nbformat_minor": 0,
  "metadata": {
    "accelerator": "GPU",
    "colab": {
      "name": " Single-Object-Motion-Prediction-With-KalmanFilter.ipynb",
      "provenance": [],
      "collapsed_sections": [],
      "machine_shape": "hm",
      "authorship_tag": "ABX9TyPWy172toaE/+HhD8FACX8q",
      "include_colab_link": true
    },
    "kernelspec": {
      "display_name": "Python 3",
      "name": "python3"
    }
  },
  "cells": [
    {
      "cell_type": "markdown",
      "metadata": {
        "id": "view-in-github",
        "colab_type": "text"
      },
      "source": [
        "<a href=\"https://colab.research.google.com/github/sayem-eee-kuet/ECE584/blob/main/Single_Object_Motion_Prediction_With_KalmanFilter.ipynb\" target=\"_parent\"><img src=\"https://colab.research.google.com/assets/colab-badge.svg\" alt=\"Open In Colab\"/></a>"
      ]
    },
    {
      "cell_type": "code",
      "metadata": {
        "colab": {
          "base_uri": "https://localhost:8080/"
        },
        "id": "5TlQA3SYP7wV",
        "outputId": "018df63c-130d-48c7-edbe-d29399807011"
      },
      "source": [
        "from google.colab import drive\n",
        "drive.mount('/content/gdrive')"
      ],
      "execution_count": 1,
      "outputs": [
        {
          "output_type": "stream",
          "text": [
            "Mounted at /content/gdrive\n"
          ],
          "name": "stdout"
        }
      ]
    },
    {
      "cell_type": "code",
      "metadata": {
        "id": "nBQBbCmnQKhs"
      },
      "source": [
        "#----------------------------\n",
        "#--------- Imports-----------\n",
        "#----------------------------\n",
        "import cv2 as cv\n",
        "import numpy as np\n",
        "import sys\n",
        "from google.colab.patches import cv2_imshow\n",
        "import matplotlib.pyplot as plt\n",
        "import matplotlib.animation as animation\n",
        "from IPython.display import HTML\n",
        "\n",
        "MAX_OBJECTS_TO_TRACK = 10"
      ],
      "execution_count": 2,
      "outputs": []
    },
    {
      "cell_type": "code",
      "metadata": {
        "id": "hGVLyjXpIS9G"
      },
      "source": [
        "#-------------------------------------------------------#\n",
        "# Implements Ball motion prediction using Kalman Filter #\n",
        "#-------------------------------------------------------#\n",
        "\n",
        "import cv2 as cv\n",
        "import numpy as np\n",
        "import sys\n",
        "\n",
        "# Instantiate OCV kalman filter\n",
        "\n",
        "class KalmanFilter:\n",
        "\n",
        "    kf = cv.KalmanFilter(4, 2)\n",
        "    kf.measurementMatrix = np.array([[1, 0, 0, 0], \n",
        "                                     [0, 1, 0, 0]], np.float32)\n",
        "    dt = 1.0\n",
        "    # kf.transitionMatrix = np.array([[1, dt, 0, 0], \n",
        "    #                                 [0, 1,  0, 0], \n",
        "    #                                 [0, 0, 1, dt], \n",
        "    #                                 [0, 0, 0, 1]], np.float32)\n",
        "    \n",
        "\n",
        "    \n",
        "    kf.transitionMatrix = np.array([[1, 0, dt, 0], \n",
        "                                    [0, 1, 0, dt], \n",
        "                                    [0, 0, 1, 0], \n",
        "                                    [0, 0, 0, 1]], np.float32)\n",
        "\n",
        "    def Estimate(self, coordX, coordY):\n",
        "        ''' This function estimates the position of the object'''\n",
        "        measured = np.array([[np.float32(coordX)], [np.float32(coordY)]])\n",
        "        self.kf.correct(measured)\n",
        "        predicted = self.kf.predict()\n",
        "        return predicted\n",
        "\n",
        "\n",
        "\n",
        "#Performs required image processing to get ball coordinated in the video\n",
        "class ProcessImage:\n",
        "\n",
        "    def DetectObject(self):\n",
        "\n",
        "        vid = cv.VideoCapture('/content/gdrive/MyDrive/ECE584/Data/balls.mp4')\n",
        "\n",
        "        if(vid.isOpened() == False):\n",
        "            print('Cannot open input video')\n",
        "            return\n",
        "\n",
        "        width = int(vid.get(3))\n",
        "        height = int(vid.get(4))\n",
        "\n",
        "        # rc, frame = vid.read()\n",
        "\n",
        "        # print(frame)\n",
        "\n",
        "        # # Create Kalman Filter Object\n",
        "        kfObj = KalmanFilter()\n",
        "        predictedCoords = np.zeros((2, 1), np.float32)\n",
        "\n",
        "        fr = []\n",
        "\n",
        "        while(vid.isOpened()):\n",
        "            rc, frame = vid.read()\n",
        "\n",
        "            if(rc == True):\n",
        "                [ballX, ballY] = self.DetectBall(frame)\n",
        "                predictedCoords = kfObj.Estimate(ballX, ballY)\n",
        "\n",
        "                # Draw Actual coords from segmentation\n",
        "                cv.circle(frame, (int(ballX), int(ballY)), 20, [0, 0, 255], 2, 8)\n",
        "                cv.line(frame,(int(ballX), int(ballY + 20)), \n",
        "                        (int(ballX + 50), int(ballY + 20)), [0, 0, 255], 2, 8)\n",
        "                cv.putText(frame, \"Actual\", (int(ballX + 50), int(ballY + 20)), \n",
        "                           cv.FONT_HERSHEY_SIMPLEX,0.5, [0, 0, 255])  #[50, 200, 250]\n",
        "\n",
        "                # Draw Kalman Filter Predicted output\n",
        "                cv.circle(frame, (predictedCoords[0], predictedCoords[1]), 20, [255, 0, 0], 2, 8)\n",
        "                cv.line(frame, (predictedCoords[0] + 16, predictedCoords[1] - 15), \n",
        "                        (predictedCoords[0] + 50, predictedCoords[1] - 30), [255, 0, 0], 2, 8)\n",
        "                cv.putText(frame, \"Predicted\", (int(predictedCoords[0] + 50), \n",
        "                                                int(predictedCoords[1] - 30)), \n",
        "                                                cv.FONT_HERSHEY_SIMPLEX, 0.5, [255, 0, 0]) #  [50, 200, 250]\n",
        "                # cv2_imshow(frame)\n",
        "                # im = cv2_imshow(frame)\n",
        "                fr.append(frame)\n",
        "                # # plt.imshow(frame, animated=True)\n",
        "\n",
        "                if (cv.waitKey(300) & 0xFF == ord('q')):\n",
        "                    break\n",
        "\n",
        "            else:\n",
        "                break\n",
        "\n",
        "        vid.release()\n",
        "        cv.destroyAllWindows()\n",
        "\n",
        "        return fr\n",
        "\n",
        "\n",
        "\n",
        "    # Segment the green ball in a given frame\n",
        "    def DetectBall(self, frame):\n",
        "\n",
        "        # Set threshold to filter only green color & Filter it\n",
        "        lowerBound = np.array([130, 30, 0], dtype = \"uint8\")\n",
        "        upperBound = np.array([255, 255, 90], dtype = \"uint8\")\n",
        "        greenMask = cv.inRange(frame, lowerBound, upperBound)\n",
        "\n",
        "        # Dilate\n",
        "        kernel = np.ones((5, 5), np.uint8)\n",
        "        greenMaskDilated = cv.dilate(greenMask, kernel)\n",
        "        #cv.imshow('Thresholded', greenMaskDilated)\n",
        "\n",
        "        # Find ball blob as it is the biggest green object in the frame\n",
        "        [nLabels, labels, stats, centroids] = cv.connectedComponentsWithStats(greenMaskDilated, 8, cv.CV_32S)\n",
        "\n",
        "        # First biggest contour is image border always, Remove it\n",
        "        stats = np.delete(stats, (0), axis = 0)\n",
        "        try:\n",
        "            maxBlobIdx_i, maxBlobIdx_j = np.unravel_index(stats.argmax(), stats.shape)\n",
        "\n",
        "        # This is our ball coords that needs to be tracked\n",
        "            ballX = stats[maxBlobIdx_i, 0] + (stats[maxBlobIdx_i, 2]/2)\n",
        "            ballY = stats[maxBlobIdx_i, 1] + (stats[maxBlobIdx_i, 3]/2)\n",
        "            return [ballX, ballY]\n",
        "        except:\n",
        "               pass\n",
        "\n",
        "        return [0,0]"
      ],
      "execution_count": 4,
      "outputs": []
    },
    {
      "cell_type": "code",
      "metadata": {
        "colab": {
          "base_uri": "https://localhost:8080/"
        },
        "id": "eaPiYQ4P0u4O",
        "outputId": "6d28910e-ea0b-4709-b869-6d02c03bbfce"
      },
      "source": [
        "# Main Function\n",
        "def main():\n",
        "\n",
        "    processImg = ProcessImage()\n",
        "    f = processImg.DetectObject()\n",
        "    # print(type(f))\n",
        "    f = np.asanyarray(f)\n",
        "    # print(f.shape)\n",
        "    lenght, height, width, layer = f.shape\n",
        "    FPS = 10\n",
        "    time = 0.07\n",
        "    fourcc = cv.VideoWriter_fourcc(*'MP42')\n",
        "    video = cv.VideoWriter('/content/gdrive/MyDrive/ECE584/Output/single.avi', fourcc, float(FPS), (width, height))\n",
        "\n",
        "    for i in range(len(f)):\n",
        "      video.write(f[i])\n",
        "    \n",
        "    video.release()\n",
        "    \n",
        "\n",
        "\n",
        "if __name__ == \"__main__\":\n",
        "    main()\n",
        "\n",
        "print('Program Completed! See output folder...')"
      ],
      "execution_count": 5,
      "outputs": [
        {
          "output_type": "stream",
          "text": [
            "Program Completed! See output folder...\n"
          ],
          "name": "stdout"
        }
      ]
    },
    {
      "cell_type": "code",
      "metadata": {
        "id": "RG4ghxtIA8No"
      },
      "source": [
        "\n",
        "\n",
        "# from cv2 import VideoWriter, VideoWriter_fourcc\n",
        "\n",
        "# width = 1280\n",
        "# height = 720\n",
        "# FPS = 10\n",
        "# seconds = 0.07\n",
        "\n",
        "# fourcc = VideoWriter_fourcc(*'MP42')\n",
        "# video = VideoWriter('/content/gdrive/MyDrive/ECE584/Output/output.avi', fourcc, float(FPS), (width, height))\n",
        "\n",
        "# for i in range(len(f)):\n",
        "#     video.write(f[i])\n",
        "# video.release()\n",
        "\n"
      ],
      "execution_count": null,
      "outputs": []
    },
    {
      "cell_type": "code",
      "metadata": {
        "id": "LY4ra2CqAvXc"
      },
      "source": [
        "# print(len(f))\n",
        "# for i in range(len(f)):\n",
        "#   im = cv2_imshow(f[i])"
      ],
      "execution_count": null,
      "outputs": []
    },
    {
      "cell_type": "code",
      "metadata": {
        "id": "i74bzuR6KIL7"
      },
      "source": [
        "# processImg = ProcessImage()\n",
        "# processImg.DetectObject()"
      ],
      "execution_count": null,
      "outputs": []
    },
    {
      "cell_type": "code",
      "metadata": {
        "id": "oecBrfGPMWpm"
      },
      "source": [
        "# f10 = lambda x, t : 1 / (1 + 16 * (x - t)**2)\n",
        "# xs10 = np.linspace(-1, 1, 101)\n",
        "\n",
        "# fig, ax = plt.subplots()\n",
        "\n",
        "# ax.set_xlim(( -1, 1))\n",
        "# ax.set_ylim((0, 1.5))\n",
        "\n",
        "# line, = ax.plot([], [], lw=2)\n",
        "\n",
        "# def init():\n",
        "#     line.set_data([], [])\n",
        "#     return (line,)\n",
        "\n",
        "# def animate(t):\n",
        "#     line.set_data(xs10, f10(xs10, t))\n",
        "#     return (line,)\n",
        "# anim = animation.FuncAnimation(fig, animate, init_func=init,\n",
        "#                                frames=np.arange(0, 1, 0.01), blit=True)\n",
        "\n",
        "# HTML(anim.to_html5_video())"
      ],
      "execution_count": null,
      "outputs": []
    },
    {
      "cell_type": "code",
      "metadata": {
        "id": "A22UDLDPrw3H"
      },
      "source": [
        ""
      ],
      "execution_count": null,
      "outputs": []
    }
  ]
}